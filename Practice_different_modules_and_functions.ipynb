{
  "cells": [
    {
      "cell_type": "markdown",
      "metadata": {
        "id": "view-in-github",
        "colab_type": "text"
      },
      "source": [
        "<a href=\"https://colab.research.google.com/github/shiz-107/S-Box-Design-Using-Eisenstein-Integers/blob/main/Practice_different_modules_and_functions.ipynb\" target=\"_parent\"><img src=\"https://colab.research.google.com/assets/colab-badge.svg\" alt=\"Open In Colab\"/></a>"
      ]
    },
    {
      "cell_type": "code",
      "execution_count": null,
      "metadata": {
        "colab": {
          "base_uri": "https://localhost:8080/"
        },
        "id": "txPxcXdJbTMR",
        "outputId": "c9a22dbf-e55d-4e6d-f757-0c95c521aa29"
      },
      "outputs": [
        {
          "name": "stdout",
          "output_type": "stream",
          "text": [
            "[-7, 7]\n"
          ]
        }
      ],
      "source": [
        "def eisenmul(o1, o2):\n",
        "    a, b = o1[0], o1[1]\n",
        "    i, j = o2[0], o2[1]\n",
        "    o12 = [a * i - b * j, a * j + b * i - b * j]\n",
        "    return o12\n",
        "\n",
        "# Example values\n",
        "o1 = [2, 3]\n",
        "o2 = [4, 5]\n",
        "\n",
        "o12_result = eisenmul(o1, o2)\n",
        "print(o12_result)\n"
      ]
    },
    {
      "cell_type": "code",
      "execution_count": null,
      "metadata": {
        "colab": {
          "base_uri": "https://localhost:8080/"
        },
        "id": "rID4s6YkpHHf",
        "outputId": "5c3423e5-03ce-4b44-cc0b-31d9cf9211dd"
      },
      "outputs": [
        {
          "name": "stdout",
          "output_type": "stream",
          "text": [
            "[[0, 0], [28, 29], [2, 1], [0, 2], [1, 1], [3, 3], [4, 3], [1, 2], [29, 0], [0, 1], [26, 28], [27, 29], [30, 1], [29, 29], [30, 0], [3, 1], [3, 2], [29, 30], [0, 29], [30, 30], [28, 28], [27, 28], [30, 29], [2, 0], [0, 30], [5, 3], [4, 2], [1, 30], [2, 2], [1, 0], [0, 0]]\n"
          ]
        }
      ],
      "source": [
        "\n",
        "def eisenmul(o1, o2):\n",
        "    a, b = o1[0], o1[1]\n",
        "    i, j = o2[0], o2[1]\n",
        "    o12 = [a * i - b * j, a * j + b * i - b * j]\n",
        "    return o12\n",
        "\n",
        "# Example values\n",
        "p = [5, 6]\n",
        "r = [-1, -6]\n",
        "\n",
        "prime = eisenmul(p, r)\n",
        "a = [-3, -1]\n",
        "a1 = [-3, -1]\n",
        "i = 1\n",
        "H = [[0, 0] for _ in range(31)]\n",
        "\n",
        "while i < 30:\n",
        "    a2 = eisenmul(a, a1)\n",
        "    a3 = eisenmul(a2, r)\n",
        "    a4 = [x / 31 for x in a3]\n",
        "    a5 = [round(x) for x in a4]\n",
        "    a6 = eisenmul(a5, p)\n",
        "    a7 = [x - y for x, y in zip(a2, a6)]\n",
        "    H[i] = a7\n",
        "    for k in range(2):\n",
        "        H[i][k] = H[i][k] % 31\n",
        "    a = a7\n",
        "    i = i + 1\n",
        "\n",
        "print(H)"
      ]
    },
    {
      "cell_type": "code",
      "execution_count": null,
      "metadata": {
        "colab": {
          "base_uri": "https://localhost:8080/"
        },
        "id": "3HmdXhT5re-b",
        "outputId": "8e4688d8-aa9b-41bc-91d4-72a349f9cab8"
      },
      "outputs": [
        {
          "name": "stdout",
          "output_type": "stream",
          "text": [
            "3\n",
            "4\n"
          ]
        }
      ],
      "source": [
        "H = [3,4]\n",
        "print(H[0])\n",
        "print(H[1])"
      ]
    },
    {
      "cell_type": "code",
      "source": [
        "# Perfect\n",
        "\n",
        "def eisenmul(o1, o2):\n",
        "    a, b = o1[0], o1[1]\n",
        "    i, j = o2[0], o2[1]\n",
        "    o12 = [a * i - b * j, a * j + b * i]\n",
        "    return o12\n",
        "\n",
        "# Example values\n",
        "p = [5, 6]\n",
        "r = [-1, -6]\n",
        "\n",
        "prime = eisenmul(p, r)\n",
        "a = [-3, -1]\n",
        "a1 = [-3, -1]\n",
        "i = 1\n",
        "H = [[0, 0] for _ in range(31)]\n",
        "\n",
        "while i < 30:\n",
        "    a2 = eisenmul(a, a1)\n",
        "    a3 = eisenmul(a2, r)\n",
        "    a4 = [x / 31 for x in a3]\n",
        "    a5 = [round(x) for x in a4]\n",
        "    a6 = eisenmul(a5, p)\n",
        "    a7 = [x - y for x, y in zip(a2, a6)]\n",
        "    H[i] = a7\n",
        "    for k in range(2):\n",
        "        H[i][k] = H[i][k] % 31\n",
        "    a = a7\n",
        "    i = i + 1\n",
        "print(H[i][j])\n",
        "x_coordinates = [point[0] for point in H]\n",
        "y_coordinates = [point[1] for point in H]\n",
        "print(x_coordinates)\n",
        "print(y_coordinates)\n",
        "for i in x_coordinates:\n",
        "    X = (i ** 3 + 5) % 31\n",
        "    for j in y_coordinates:\n",
        "     Y = (j**2)%31\n",
        "     if   X==Y:\n",
        "      print([i,j])\n",
        "print(\"chk it Mareez Churail\\U0001F604 ,\")"
      ],
      "metadata": {
        "colab": {
          "base_uri": "https://localhost:8080/"
        },
        "id": "QWKPn4M_vDQM",
        "outputId": "78cad882-9ea7-4809-cacc-a0e84f15dc9d"
      },
      "execution_count": null,
      "outputs": [
        {
          "output_type": "stream",
          "name": "stdout",
          "text": [
            "[0, 22, 0, 25, 7, 10, 9, 25, 16, 4, 20, 28, 0, 23, 16, 25, 26, 19, 17, 18, 3, 29, 11, 30, 18, 11, 27, 6, 19, 17, 0]\n",
            "[0, 10, 24, 28, 8, 16, 14, 14, 22, 30, 20, 16, 15, 14, 29, 7, 14, 16, 17, 21, 26, 20, 14, 13, 5, 4, 2, 4, 16, 17, 0]\n",
            "[7, 10]\n",
            "[7, 21]\n",
            "[16, 28]\n",
            "[4, 10]\n",
            "[4, 21]\n",
            "[20, 10]\n",
            "[20, 21]\n",
            "[28, 28]\n",
            "[16, 28]\n",
            "[26, 29]\n",
            "[26, 2]\n",
            "[18, 28]\n",
            "[3, 30]\n",
            "[29, 20]\n",
            "[29, 20]\n",
            "[30, 29]\n",
            "[30, 2]\n",
            "[18, 28]\n",
            "[6, 29]\n",
            "[6, 2]\n",
            "chk it Mareez Churail😄 ,\n"
          ]
        }
      ]
    },
    {
      "cell_type": "code",
      "source": [
        "print(\"Its for you: \\U0001F381,\\U0001F33a\")"
      ],
      "metadata": {
        "id": "u3q7dMcapW8t",
        "outputId": "f40c6534-9561-4b10-8506-ab925eeff272",
        "colab": {
          "base_uri": "https://localhost:8080/"
        }
      },
      "execution_count": null,
      "outputs": [
        {
          "output_type": "stream",
          "name": "stdout",
          "text": [
            "Its for you: 🎁,🌺\n"
          ]
        }
      ]
    },
    {
      "cell_type": "code",
      "source": [
        "# Perfect\n",
        "\n",
        "def eisenmul(o1, o2):\n",
        "    a, b = o1[0], o1[1]\n",
        "    i, j = o2[0], o2[1]\n",
        "    o12 = [a * i - b * j, a * j + b * i]\n",
        "    return o12\n",
        "\n",
        "# Example values\n",
        "p = [5, 6]\n",
        "r = [-1, -6]\n",
        "\n",
        "prime = eisenmul(p, r)\n",
        "a = [-3, -1]\n",
        "a1 = [-3, -1]\n",
        "i = 1\n",
        "H = [[0, 0] for _ in range(31)]\n",
        "\n",
        "while i < 30:\n",
        "    a2 = eisenmul(a, a1)\n",
        "    a3 = eisenmul(a2, r)\n",
        "    a4 = [x / 31 for x in a3]\n",
        "    a5 = [round(x) for x in a4]\n",
        "    a6 = eisenmul(a5, p)\n",
        "    a7 = [x - y for x, y in zip(a2, a6)]\n",
        "    H[i] = a7\n",
        "    for k in range(2):\n",
        "        H[i][k] = H[i][k] % 31\n",
        "    a = a7\n",
        "    i = i + 1\n",
        "\n",
        "x_coordinates = [point[0] for point in H]\n",
        "y_coordinates = [point[1] for point in H]\n",
        "print(x_coordinates)\n",
        "print(y_coordinates)\n",
        "R = []\n",
        "for i in x_coordinates:\n",
        "    X = (i ** 3 + 5) % 31\n",
        "    for j in y_coordinates:\n",
        "     Y = (j**2)%31\n",
        "     if   X==Y:\n",
        "       R.append((i,j))\n",
        "a=3\n",
        "b=6\n",
        "p =16\n",
        "\n",
        "for P in R:\n",
        "    mapping= (a*(P[1])+b)%16\n",
        "    print(mapping)\n",
        "\n"
      ],
      "metadata": {
        "colab": {
          "base_uri": "https://localhost:8080/"
        },
        "id": "H4b8XD04cGfn",
        "outputId": "0ad12e06-ab97-40aa-a295-b047c19cfe4c"
      },
      "execution_count": null,
      "outputs": [
        {
          "output_type": "stream",
          "name": "stdout",
          "text": [
            "[0, 22, 0, 25, 7, 10, 9, 25, 16, 4, 20, 28, 0, 23, 16, 25, 26, 19, 17, 18, 3, 29, 11, 30, 18, 11, 27, 6, 19, 17, 0]\n",
            "[0, 10, 24, 28, 8, 16, 14, 14, 22, 30, 20, 16, 15, 14, 29, 7, 14, 16, 17, 21, 26, 20, 14, 13, 5, 4, 2, 4, 16, 17, 0]\n",
            "4\n",
            "5\n",
            "10\n",
            "4\n",
            "5\n",
            "4\n",
            "5\n",
            "10\n",
            "10\n",
            "13\n",
            "12\n",
            "10\n",
            "0\n",
            "2\n",
            "2\n",
            "13\n",
            "12\n",
            "10\n",
            "13\n",
            "12\n"
          ]
        }
      ]
    },
    {
      "cell_type": "code",
      "source": [
        "def eisenmul(o1, o2):\n",
        "    a, b = o1[0], o1[1]\n",
        "    i, j = o2[0], o2[1]\n",
        "    o12 = [a * i - b * j, a * j + b * i]\n",
        "    return o12\n",
        "\n",
        "# Example values\n",
        "p = [5, 6]\n",
        "r = [-1, -6]\n",
        "\n",
        "prime = eisenmul(p, r)\n",
        "a = [-3, -1]\n",
        "a1 = [-3, -1]\n",
        "i = 1\n",
        "H = [[0, 0] for _ in range(31)]\n",
        "\n",
        "while i < 30:\n",
        "    a2 = eisenmul(a, a1)\n",
        "    a3 = eisenmul(a2, r)\n",
        "    a4 = [x / 31 for x in a3]  # Divide by 31?\n",
        "    a5 = [round(x) for x in a4]\n",
        "    a6 = eisenmul(a5, p)\n",
        "    a7 = [x - y for x, y in zip(a2, a6)]\n",
        "    H[i] = a7\n",
        "    for k in range(2):\n",
        "        H[i][k] = H[i][k] % 31\n",
        "    a = a7\n",
        "    i = i + 1\n",
        "\n",
        "x_coordinates = [point[0] for point in H]\n",
        "y_coordinates = [point[1] for point in H]\n",
        "\n",
        "print(y_coordinates)\n",
        "\n",
        "R = []\n",
        "for i in range(len(x_coordinates)):\n",
        "    X = (x_coordinates[i] ** 3 + 5) % 31\n",
        "    Y = (y_coordinates[i] ** 2) % 31\n",
        "    if X == Y:\n",
        "        R.append((x_coordinates[i], y_coordinates[i]))\n",
        "\n",
        "a = 3\n",
        "b = 6\n",
        "for P in R:\n",
        "    mapping = (a * P[1] + b) % 16\n",
        "print(mapping)\n"
      ],
      "metadata": {
        "colab": {
          "base_uri": "https://localhost:8080/"
        },
        "id": "u7RGOGCUgcY6",
        "outputId": "3d9c4cd6-af38-431d-f55c-748eede112fc"
      },
      "execution_count": null,
      "outputs": [
        {
          "output_type": "stream",
          "name": "stdout",
          "text": [
            "[0, 10, 24, 28, 8, 16, 14, 14, 22, 30, 20, 16, 15, 14, 29, 7, 14, 16, 17, 21, 26, 20, 14, 13, 5, 4, 2, 4, 16, 17, 0]\n",
            "2\n"
          ]
        }
      ]
    },
    {
      "cell_type": "code",
      "source": [
        "# Corrected and explained code\n",
        "\n",
        "def eisenmul(o1, o2):\n",
        "    a, b = o1[0], o1[1]\n",
        "    i, j = o2[0], o2[1]\n",
        "    o12 = [a * i - b * j, a * j + b * i]\n",
        "    return o12\n",
        "\n",
        "# Example values\n",
        "p = [5, 6]\n",
        "r = [-1, -6]\n",
        "\n",
        "prime = eisenmul(p, r)\n",
        "a = [-3, -1]\n",
        "a1 = [-3, -1]\n",
        "i = 1\n",
        "H = [[0, 0] for _ in range(31)]\n",
        "\n",
        "while i < 30:\n",
        "    a2 = eisenmul(a, a1)\n",
        "    a3 = eisenmul(a2, r)\n",
        "    a4 = [x / 31 for x in a3]\n",
        "    a5 = [round(x) for x in a4]\n",
        "    a6 = eisenmul(a5, p)\n",
        "    a7 = [x - y for x, y in zip(a2, a6)]\n",
        "    H[i] = a7\n",
        "    for k in range(2):\n",
        "        H[i][k] = H[i][k] % 31\n",
        "    a = a7\n",
        "    i = i + 1\n",
        "\n",
        "x_coordinates = [point[0] for point in H]\n",
        "y_coordinates = [point[1] for point in H]\n",
        "print(x_coordinates)\n",
        "print(y_coordinates)\n",
        "R = []\n",
        "for i in range(len(x_coordinates)):\n",
        "    X = (x_coordinates[i] ** 3 + 5) % 31\n",
        "    Y = (y_coordinates[i] ** 2) % 31\n",
        "    if X == Y:\n",
        "        R.append((x_coordinates[i], y_coordinates[i]))\n",
        "a = 3\n",
        "b = 6\n",
        "p = 16\n",
        "\n",
        "for P in R:\n",
        "    mapping = (a * P[0] + b) % p\n",
        "print(mapping)\n"
      ],
      "metadata": {
        "colab": {
          "base_uri": "https://localhost:8080/"
        },
        "id": "BkAIg8z6hV-U",
        "outputId": "e5ad8a8b-68cd-4167-aa30-27e3b6901448"
      },
      "execution_count": null,
      "outputs": [
        {
          "output_type": "stream",
          "name": "stdout",
          "text": [
            "[0, 22, 0, 25, 7, 10, 9, 25, 16, 4, 20, 28, 0, 23, 16, 25, 26, 19, 17, 18, 3, 29, 11, 30, 18, 11, 27, 6, 19, 17, 0]\n",
            "[0, 10, 24, 28, 8, 16, 14, 14, 22, 30, 20, 16, 15, 14, 29, 7, 14, 16, 17, 21, 26, 20, 14, 13, 5, 4, 2, 4, 16, 17, 0]\n",
            "[(29, 20)]\n",
            "13\n"
          ]
        }
      ]
    },
    {
      "cell_type": "code",
      "source": [
        "# Perfect\n",
        "\n",
        "def eisenmul(o1, o2):\n",
        "    a, b = o1[0], o1[1]\n",
        "    i, j = o2[0], o2[1]\n",
        "    o12 = [a * i - b * j, a * j + b * i - b * j]\n",
        "    return o12\n",
        "\n",
        "# Example values\n",
        "p = [81, 71]\n",
        "r = [10, -71]\n",
        "\n",
        "prime = eisenmul(p, r)\n",
        "a = [2, 3]\n",
        "a1 = [2, 3]\n",
        "i = 1\n",
        "H = [[0, 0] for _ in range(5851)]\n",
        "\n",
        "while i < 5850:\n",
        "    a2 = eisenmul(a, a1)\n",
        "    a3 = eisenmul(a2, r)\n",
        "    a4 = [x / 5851 for x in a3]\n",
        "    a5 = [round(x) for x in a4]\n",
        "    a6 = eisenmul(a5, p)\n",
        "    a7 = [x - y for x, y in zip(a2, a6)]\n",
        "    H[i] = a7\n",
        "    for k in range(2):\n",
        "        H[i][k] = H[i][k] % 5851\n",
        "    a = a7\n",
        "    i = i + 1\n",
        "\n",
        "x_coordinates = [point[0] for point in H]\n",
        "y_coordinates = [point[1] for point in H]\n",
        "for i in x_coordinates:\n",
        "    X = (i ** 3 + 5) % 5851\n",
        "    for j in y_coordinates:\n",
        "     Y = (j**2)%5851\n",
        "     if  X==Y:\n",
        "       R= (i ,j)\n",
        "       print(R)\n",
        "       break\n",
        "    else:\n",
        "      continue\n",
        "    break"
      ],
      "metadata": {
        "colab": {
          "base_uri": "https://localhost:8080/"
        },
        "id": "d5A5KMqZXAeS",
        "outputId": "0d97b250-3a01-4ab5-943c-94b8b7f72472"
      },
      "execution_count": null,
      "outputs": [
        {
          "output_type": "stream",
          "name": "stdout",
          "text": [
            "(5810, 5815)\n"
          ]
        }
      ]
    }
  ],
  "metadata": {
    "colab": {
      "provenance": [],
      "authorship_tag": "ABX9TyPuxCa44zvqubKacQJmymLA",
      "include_colab_link": true
    },
    "kernelspec": {
      "display_name": "Python 3",
      "name": "python3"
    },
    "language_info": {
      "name": "python"
    }
  },
  "nbformat": 4,
  "nbformat_minor": 0
}