{
  "nbformat": 4,
  "nbformat_minor": 0,
  "metadata": {
    "colab": {
      "provenance": [],
      "authorship_tag": "ABX9TyNDuwb0ToO+XDYq7/UV2i6P",
      "include_colab_link": true
    },
    "kernelspec": {
      "name": "python3",
      "display_name": "Python 3"
    },
    "language_info": {
      "name": "python"
    }
  },
  "cells": [
    {
      "cell_type": "markdown",
      "metadata": {
        "id": "view-in-github",
        "colab_type": "text"
      },
      "source": [
        "<a href=\"https://colab.research.google.com/github/shiz-107/S-Box-Design-Using-Eisenstein-Integers/blob/main/class_practice.ipynb\" target=\"_parent\"><img src=\"https://colab.research.google.com/assets/colab-badge.svg\" alt=\"Open In Colab\"/></a>"
      ]
    },
    {
      "cell_type": "code",
      "execution_count": null,
      "metadata": {
        "colab": {
          "base_uri": "https://localhost:8080/"
        },
        "id": "iNTQa3SQpaf8",
        "outputId": "efa7d335-eef9-4367-cc09-016f5f96ebb9"
      },
      "outputs": [
        {
          "output_type": "stream",
          "name": "stdout",
          "text": [
            "learn python\n",
            "11\n"
          ]
        }
      ],
      "source": [
        "class A:  # class is\n",
        "      \"learn python\"\n",
        "      a=11\n",
        "obj = A()\n",
        "print(A.__doc__)\n",
        "print(A.a)"
      ]
    },
    {
      "cell_type": "code",
      "source": [
        "class A:                                # class name : A   =>  with 2 Methods (init and display) / class is a template\n",
        "  def __init__(self,x,y,z):             # default constructor for number of objects , no need to call\n",
        "        self.name = x                   # objects\n",
        "        self.roll = y\n",
        "        self.per = z\n",
        "  def display(self):\n",
        "        print(self.name)\n",
        "        print(self.roll)\n",
        "        print(self.per)\n",
        "\n",
        "obj1 = A(\"Shahzaib Arif\" ,11018,67)                    # calling object\n",
        "obj2 = A(\"Shahzaib Hassan\" ,11028,65)                  # calling object\n",
        "obj3 = A(\"Waseem Akhtar\",11122 ,49)\n",
        "obj1.display()\n",
        "obj2.display()\n",
        "obj3.display()"
      ],
      "metadata": {
        "id": "ReI8F8vvpmCD"
      },
      "execution_count": null,
      "outputs": []
    },
    {
      "cell_type": "code",
      "source": [
        "class A:\n",
        "  def __init__(self,x,y,z):\n",
        "        self.name = x\n",
        "        self.roll = y\n",
        "        self.per = z\n",
        "  def display(self):\n",
        "        print(self.name ,self.roll ,self.per)\n",
        "obj1 = A(\"Shahzaib Arif\" ,11018,67)\n",
        "obj2 = A(\"Shahzaib Hassan\" ,11028,65)\n",
        "obj3 = A(\"Waseem Akhtar\",11122 ,25)\n",
        "obj1.display()\n",
        "obj2.display()\n",
        "obj3.display()"
      ],
      "metadata": {
        "colab": {
          "base_uri": "https://localhost:8080/"
        },
        "id": "Myj8CDGCvS0r",
        "outputId": "74037439-cee6-4cf4-e754-b49f460514c4"
      },
      "execution_count": null,
      "outputs": [
        {
          "output_type": "stream",
          "name": "stdout",
          "text": [
            "Shahzaib Arif 11018 67\n",
            "Shahzaib Hassan 11028 65\n",
            "Waseem Akhtar 11122 25\n"
          ]
        }
      ]
    },
    {
      "cell_type": "code",
      "source": [],
      "metadata": {
        "id": "4AeHy2fM1Sgc"
      },
      "execution_count": null,
      "outputs": []
    }
  ]
}